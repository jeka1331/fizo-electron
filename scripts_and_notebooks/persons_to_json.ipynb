{
 "cells": [
  {
   "cell_type": "code",
   "execution_count": null,
   "metadata": {},
   "outputs": [],
   "source": [
    "\n",
    "import pandas as pd\n",
    "import numpy as np\n",
    "import json\n",
    "\n",
    "pd.set_option('display.max_rows', 500)\n",
    "\n"
   ]
  },
  {
   "cell_type": "markdown",
   "metadata": {},
   "source": [
    "```\n",
    "{\n",
    "lName: \"Кабиденов\",\n",
    "fName: \"Д\",\n",
    "sName: \"М\",\n",
    "zvanieId: 1,\n",
    "podrazdelenieId: 18,\n",
    "isMale: true,\n",
    "categoryId: 18\n",
    "}\n",
    "```"
   ]
  },
  {
   "cell_type": "code",
   "execution_count": null,
   "metadata": {},
   "outputs": [],
   "source": [
    "def zvanie_to_id(name:str):\n",
    "    if name == '':\n",
    "        return None\n",
    "    \n",
    "def fullname_tuple(full_name:str):\n",
    "    # Разделение строки по пробелу\n",
    "    last_name, rest = full_name.split(' ', 1)\n",
    "\n",
    "    # Получение первой буквы от второго элемента\n",
    "    first_letter = rest[0]\n",
    "\n",
    "    # Получение оставшихся букв после точки\n",
    "    second_letter = rest.split('.')[1]\n",
    "\n",
    "    # Создание кортежа\n",
    "    result_tuple = (last_name, first_letter, second_letter)\n",
    "    return result_tuple\n",
    "\n",
    "def zvanie_to_id(name: str):\n",
    "    zvania = [\n",
    "        {\"id\": 1, \"name\": \"Рядовой\"},\n",
    "        {\"id\": 2, \"name\": \"Ефрейтор\"},\n",
    "        {\"id\": 3, \"name\": \"Младший сержант\"},\n",
    "        {\"id\": 4, \"name\": \"Сержант\"},\n",
    "        {\"id\": 5, \"name\": \"Старший сержант\"},\n",
    "        {\"id\": 6, \"name\": \"Сержант третьего класса\"},\n",
    "        {\"id\": 7, \"name\": \"Сержант второго класса\"},\n",
    "        {\"id\": 8, \"name\": \"Сержант первого класса\"},\n",
    "        {\"id\": 9, \"name\": \"Штаб-сержант\"},\n",
    "        {\"id\": 10, \"name\": \"Мастер-сержант\"},\n",
    "        {\"id\": 11, \"name\": \"Лейтенант\"},\n",
    "        {\"id\": 12, \"name\": \"Старший лейтенант\"},\n",
    "        {\"id\": 13, \"name\": \"Капитан\"},\n",
    "        {\"id\": 14, \"name\": \"Майор\"},\n",
    "        {\"id\": 15, \"name\": \"Подполковник\"},\n",
    "        {\"id\": 16, \"name\": \"Полковник\"},\n",
    "        {\"id\": 17, \"name\": \"Генерал-майор\"},\n",
    "        {\"id\": 18, \"name\": \"Генерал-лейтенант\"},\n",
    "        {\"id\": 19, \"name\": \"Генерал-полковник\"},\n",
    "        {\"id\": 20, \"name\": \"Генерал армии\"},\n",
    "        {\"id\": 21, \"name\": \"Матрос\"},\n",
    "        {\"id\": 22, \"name\": \"Старший матрос\"},\n",
    "        {\"id\": 23, \"name\": \"Старшина второй статьи\"},\n",
    "        {\"id\": 24, \"name\": \"Старшина первой статьи\"},\n",
    "        {\"id\": 25, \"name\": \"Главный старшина\"},\n",
    "        {\"id\": 26, \"name\": \"Старшина третьего класса\"},\n",
    "        {\"id\": 27, \"name\": \"Старшина второго класса\"},\n",
    "        {\"id\": 28, \"name\": \"Старшина первого класса\"},\n",
    "        {\"id\": 29, \"name\": \"Штаб-старшина\"},\n",
    "        {\"id\": 30, \"name\": \"Мастер-старшина\"},\n",
    "        {\"id\": 31, \"name\": \"Капитан-лейтенант\"},\n",
    "        {\"id\": 32, \"name\": \"Капитан третьего ранга\"},\n",
    "        {\"id\": 33, \"name\": \"Капитан второго ранга\"},\n",
    "        {\"id\": 34, \"name\": \"Капитан первого ранга\"},\n",
    "        {\"id\": 35, \"name\": \"Контр-адмирал\"},\n",
    "        {\"id\": 36, \"name\": \"Вице-адмирал\"},\n",
    "        {\"id\": 37, \"name\": \"Адмирал\"},\n",
    "        {\"id\": 38, \"name\": \"Старшина\"}\n",
    "    ]\n",
    "    for item in zvania:\n",
    "        if item[\"name\"].lower() == name.lower():\n",
    "            return item[\"id\"]\n",
    "    return None\n",
    "\n",
    "\n",
    "\n",
    "\n"
   ]
  },
  {
   "cell_type": "code",
   "execution_count": null,
   "metadata": {},
   "outputs": [],
   "source": [
    "persons = []\n",
    "podrazdeleniya = []\n",
    "podr_start_at = 1"
   ]
  },
  {
   "cell_type": "code",
   "execution_count": null,
   "metadata": {},
   "outputs": [],
   "source": [
    "raw_data = pd.read_excel('../uprs/Ведомость  НУО февраль 2024.ods', engine='odf', sheet_name='НФ, НК ', skiprows=10, usecols=\"A,B,E,G,H,F\",nrows=29)\n",
    "raw_data   "
   ]
  },
  {
   "cell_type": "code",
   "execution_count": null,
   "metadata": {},
   "outputs": [],
   "source": [
    "for idx, row in raw_data.iterrows():\n",
    "    if pd.isna(row['Unnamed: 5']):\n",
    "        current_second_level_podr = row['Unnamed: 4']\n",
    "    else:\n",
    "        new_podr = f'НФ, НК || {current_second_level_podr} || {row[\"Unnamed: 5\"]}'\n",
    "        if not new_podr in [podrazdelenie['name'] for podrazdelenie in podrazdeleniya]:\n",
    "            podrazdeleniya.append({\n",
    "                'id' : podr_start_at,\n",
    "                \"name\": new_podr})\n",
    "            podr_start_at += 1\n",
    "            \n",
    "        persons.append({\n",
    "            \"zvanieId\": zvanie_to_id(row[\"Unnamed: 6\"]),\n",
    "            \"isMale\": True if row[\"Unnamed: 0\"].lower() == 'м' else False,\n",
    "            \"podrazdelenieId\": podr_start_at - 1,\n",
    "            'lName' : fullname_tuple(row[\"Unnamed: 7\"])[0],\n",
    "            'fName' : fullname_tuple(row[\"Unnamed: 7\"])[1],\n",
    "            'sName' : fullname_tuple(row[\"Unnamed: 7\"])[2],\n",
    "        })\n",
    "    "
   ]
  },
  {
   "cell_type": "code",
   "execution_count": null,
   "metadata": {},
   "outputs": [],
   "source": [
    "raw_data = pd.read_excel('../uprs/Ведомость  НУО февраль 2024.ods', engine='odf', sheet_name='ВНИЦ.', skiprows=10, usecols=\"A,B,E,G,H,F\",nrows=80)\n",
    "raw_data   "
   ]
  },
  {
   "cell_type": "code",
   "execution_count": null,
   "metadata": {},
   "outputs": [],
   "source": [
    "for idx, row in raw_data.iterrows():\n",
    "    # print(idx)\n",
    "    if not pd.isna(row['Unnamed: 4']):\n",
    "        current_second_level_podr = row['Unnamed: 4']\n",
    "    else:\n",
    "        new_podr = f'ВНИЦ || {current_second_level_podr}'\n",
    "        if not new_podr in [podrazdelenie['name'] for podrazdelenie in podrazdeleniya]:\n",
    "            podrazdeleniya.append({\n",
    "                'id' : podr_start_at,\n",
    "                \"name\": new_podr})\n",
    "            podr_start_at += 1\n",
    "            \n",
    "        persons.append({\n",
    "            \"zvanieId\": zvanie_to_id(row[\"Unnamed: 6\"]),\n",
    "            \"isMale\": True if row[\"Unnamed: 0\"].lower() == 'м' else False,\n",
    "            \"podrazdelenieId\": podr_start_at - 1,\n",
    "            'lName' : fullname_tuple(row[\"Unnamed: 7\"])[0],\n",
    "            'fName' : fullname_tuple(row[\"Unnamed: 7\"])[1],\n",
    "            'sName' : fullname_tuple(row[\"Unnamed: 7\"])[2],\n",
    "        })\n",
    "    "
   ]
  },
  {
   "cell_type": "code",
   "execution_count": null,
   "metadata": {},
   "outputs": [],
   "source": [
    "raw_data = pd.read_excel('../uprs/Ведомость  НУО февраль 2024.ods', engine='odf', sheet_name='Управления', skiprows=6, usecols=\"A,B,E,G,H,F\",nrows=115)\n",
    "raw_data"
   ]
  },
  {
   "cell_type": "code",
   "execution_count": null,
   "metadata": {},
   "outputs": [],
   "source": [
    "for idx, row in raw_data.iterrows():\n",
    "    # print(idx)\n",
    "    if not pd.isna(row['Unnamed: 4']):\n",
    "        current_second_level_podr = row['Unnamed: 4']\n",
    "    else:\n",
    "        new_podr = f'Управления || {current_second_level_podr}'\n",
    "        if not new_podr in [podrazdelenie['name'] for podrazdelenie in podrazdeleniya]:\n",
    "            podrazdeleniya.append({\n",
    "                'id' : podr_start_at,\n",
    "                \"name\": new_podr})\n",
    "            podr_start_at += 1\n",
    "            \n",
    "        persons.append({\n",
    "            \"zvanieId\": zvanie_to_id(row[\"Unnamed: 6\"]),\n",
    "            \"isMale\": True if str(row[\"Unnamed: 0\"]).lower() == 'м' else False,\n",
    "            \"podrazdelenieId\": podr_start_at - 1,\n",
    "            'lName' : fullname_tuple(row[\"Unnamed: 7\"])[0],\n",
    "            'fName' : fullname_tuple(row[\"Unnamed: 7\"])[1],\n",
    "            'sName' : fullname_tuple(row[\"Unnamed: 7\"])[2],\n",
    "        })\n",
    "    "
   ]
  },
  {
   "cell_type": "code",
   "execution_count": null,
   "metadata": {},
   "outputs": [],
   "source": [
    "raw_data = pd.read_excel('../uprs/Ведомость  НУО февраль 2024.ods', engine='odf', sheet_name='РОиО', skiprows=6, usecols=\"A,B,E,G,H,F\",nrows=65)\n",
    "raw_data"
   ]
  },
  {
   "cell_type": "code",
   "execution_count": null,
   "metadata": {},
   "outputs": [],
   "source": [
    "for idx, row in raw_data.iterrows():\n",
    "    # print(row['Unnamed: 7'])\n",
    "    if not pd.isna(row['Unnamed: 4']):\n",
    "        current_second_level_podr = row['Unnamed: 4']\n",
    "    else:\n",
    "        new_podr = f'РОиО || {current_second_level_podr}'\n",
    "        if not new_podr in [podrazdelenie['name'] for podrazdelenie in podrazdeleniya]:\n",
    "            podrazdeleniya.append({\n",
    "                'id' : podr_start_at,\n",
    "                \"name\": new_podr})\n",
    "            podr_start_at += 1\n",
    "        \n",
    "        persons.append({\n",
    "            \"zvanieId\": zvanie_to_id(row[\"Unnamed: 6\"]),\n",
    "            \"isMale\": True if str(row[\"Unnamed: 0\"]).lower() == 'м' else False,\n",
    "            \"podrazdelenieId\": podr_start_at - 1,\n",
    "            'lName' : fullname_tuple(row[\"Unnamed: 7\"])[0],\n",
    "            'fName' : fullname_tuple(row[\"Unnamed: 7\"])[1],\n",
    "            'sName' : fullname_tuple(row[\"Unnamed: 7\"])[2],\n",
    "        })\n",
    "    "
   ]
  },
  {
   "cell_type": "code",
   "execution_count": null,
   "metadata": {},
   "outputs": [],
   "source": [
    "persons\n"
   ]
  },
  {
   "cell_type": "code",
   "execution_count": null,
   "metadata": {},
   "outputs": [],
   "source": [
    "podrazdeleniya"
   ]
  }
 ],
 "metadata": {
  "kernelspec": {
   "display_name": ".venv",
   "language": "python",
   "name": "python3"
  },
  "language_info": {
   "codemirror_mode": {
    "name": "ipython",
    "version": 3
   },
   "file_extension": ".py",
   "mimetype": "text/x-python",
   "name": "python",
   "nbconvert_exporter": "python",
   "pygments_lexer": "ipython3",
   "version": "3.11.8"
  }
 },
 "nbformat": 4,
 "nbformat_minor": 2
}
